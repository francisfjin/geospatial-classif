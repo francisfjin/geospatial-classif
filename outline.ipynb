{
 "cells": [
  {
   "cell_type": "markdown",
   "metadata": {},
   "source": [
    "\n",
    "### ✓✓✓ Import data and features\n",
    "- *online_data_tables-8.xls*: Online Data Table 8, Online Data Table 5.\n",
    "   - slice rows, rename columns, set index\n",
    "- *CZ_neighborhoodcharacteristics csv*: cz, share_[race]_2000. \n",
    "   - We use year 2000 b/c that most closely corresponds to the other dataset as per the paper. \n",
    "   - Minority filter: mean of share_white2000, if community has % less than mean we deem minority   ***check this\n",
    "\n",
    "### ✓✓✓ Merge datasets on commuting zone\n",
    "\n",
    "### ✓✓✓ Data cleaning\n",
    "- convert categoricals\n",
    "- fill NaNs with mean #check this\n",
    "\n",
    "### ✓✓✓ EDA Visualizations\n",
    "\n",
    "### ✓✓✓ Feature Selection\n",
    "- mutual info classif\n",
    "- top ten features\n",
    "- Drop features: share_black or frac_black feature, gini 99% or gini, income segregation or top 1% income share or frac. between p25 and p75, fraction of adults divorced or\tfraction of adults married\n",
    "\n",
    "### ✓✓✓ Regression \n",
    "- Absolute Mobility as a continuous variable"
   ]
  },
  {
   "cell_type": "markdown",
   "metadata": {},
   "source": [
    "### ✓✓✓ Classification\n",
    "\n",
    "- Target variable set for Classification: Absolute Mobility metric via paper ['am, 80-82 cohort']\n",
    "\n",
    "- Multi-Class\n",
    "\n",
    "    - Use Clustering results for multi-label classification\n",
    "    - Confusion Matrix\n",
    "- ***Bucket features with high cardinality for DecisionTree\n",
    "\n",
    "\n",
    "- logisticregression \n",
    "    - default L2 regularization\n",
    "- decisionttree \n",
    "    - pre-pruning max_depth,min_samples_leaf\n",
    "- logisticregressionCV\n",
    "    - 3-fold cross-validation \n",
    "    - elasticnet regularization \n",
    "    - standardscaler\n"
   ]
  },
  {
   "cell_type": "markdown",
   "metadata": {},
   "source": [
    "### ✓✓✓ Clustering  \n",
    "- Optimal n_clusters is 4 groups, but doesn't align with the four quartiles of multi-classif. But kmeans_labels is 2nd highest feature importance\n",
    "- K-means\n",
    "- Scaled data\n",
    "- created 5 clusters and labels"
   ]
  },
  {
   "cell_type": "markdown",
   "metadata": {},
   "source": [
    "### ✓✓✓ Plotly\n",
    "- visualization"
   ]
  },
  {
   "cell_type": "markdown",
   "metadata": {},
   "source": [
    "#### Optional\n",
    "\n",
    "LIME \n",
    "\n",
    "Pipeline \n",
    "\n",
    "sci-kit optimize for regularization\n",
    "\n",
    "VAEs - classification\n",
    "\n",
    "SHAP"
   ]
  },
  {
   "cell_type": "markdown",
   "metadata": {},
   "source": [
    "\n",
    "  "
   ]
  },
  {
   "cell_type": "code",
   "execution_count": null,
   "metadata": {},
   "outputs": [],
   "source": []
  },
  {
   "cell_type": "code",
   "execution_count": null,
   "metadata": {},
   "outputs": [],
   "source": []
  }
 ],
 "metadata": {
  "kernelspec": {
   "display_name": "Python 3",
   "language": "python",
   "name": "python3"
  },
  "language_info": {
   "codemirror_mode": {
    "name": "ipython",
    "version": 3
   },
   "file_extension": ".py",
   "mimetype": "text/x-python",
   "name": "python",
   "nbconvert_exporter": "python",
   "pygments_lexer": "ipython3",
   "version": "3.8.3"
  }
 },
 "nbformat": 4,
 "nbformat_minor": 4
}
